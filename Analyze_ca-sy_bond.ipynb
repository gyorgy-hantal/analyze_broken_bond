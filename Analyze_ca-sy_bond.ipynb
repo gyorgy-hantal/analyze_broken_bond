{
 "cells": [
  {
   "cell_type": "code",
   "execution_count": 1,
   "id": "6310b059-4b69-4eed-acf4-034f3a813842",
   "metadata": {},
   "outputs": [],
   "source": [
    "#import MDAnalysis as mda\n",
    "import numpy as np\n",
    "import matplotlib.pyplot as plt\n",
    "import mdtraj as md\n",
    "from collections import Counter\n",
    "from mdtraj.core import element as elem\n",
    "import os"
   ]
  },
  {
   "cell_type": "code",
   "execution_count": 2,
   "id": "78cce3cf-33f5-4ee5-9516-67bf61a66c1b",
   "metadata": {},
   "outputs": [],
   "source": [
    "def process_data(fn) :\n",
    "    fi = open(fn,'r')    \n",
    "    for i in range(8) : fi.readline()\n",
    "    \n",
    "    raw_coords = []\n",
    "    read = True\n",
    "    while read: \n",
    "        line = fi.readline().split()\n",
    "        try: \n",
    "            if len(line[0]) > 0 : raw_coords.append(line)\n",
    "        except : read = False\n",
    "    raw_connectivity = []\n",
    "    read = True\n",
    "    while read: \n",
    "        line = fi.readline().split()\n",
    "        try: \n",
    "            if len(line[0]) > 0 : raw_connectivity.append(line)\n",
    "        except : read = False\n",
    "    fi.close()    \n",
    "    \n",
    "    _H_names = []\n",
    "    _H_pos = []\n",
    "    _H_ind = []\n",
    "    _all_names = []\n",
    "    _all_pos = []\n",
    "    for icoord, coord in enumerate(raw_coords) :\n",
    "        if coord[-1] == 'H' :\n",
    "            _H_names.append(coord[0])\n",
    "            _H_pos.append([float(coord[2]),float(coord[3]),float(coord[4])])        \n",
    "            _H_ind.append(icoord)\n",
    "        _all_names.append(coord[0])\n",
    "        _all_pos.append([float(coord[2]),float(coord[3]),float(coord[4])])    \n",
    "    _connectivity = {}\n",
    "    for ind in _H_ind : _connectivity[ind] = [ int(cind) - 1 for cind in raw_connectivity[ind][1::2] ]    \n",
    "    return _H_names, _H_pos, _H_ind, _all_names, _all_pos, _connectivity"
   ]
  },
  {
   "cell_type": "code",
   "execution_count": 3,
   "id": "dc407e44-4f1c-44c7-ae3f-d674d8b96b16",
   "metadata": {},
   "outputs": [],
   "source": [
    "def get_H_CVs() :\n",
    "    # bonds within the high level\n",
    "    _bonds = []\n",
    "    for icon in connectivity :\n",
    "        for ind in connectivity[icon] :\n",
    "            if ind > icon and ind in H_ind: _bonds.append([icon,ind])  \n",
    "    # angles within the high level\n",
    "    _angles = []\n",
    "    for icon in connectivity :\n",
    "        for iind in range(len(connectivity[icon])) :\n",
    "            for jind in range(iind+1,len(connectivity[icon])) :\n",
    "                if connectivity[icon][iind] in H_ind and connectivity[icon][jind] in H_ind : \n",
    "                    _angles.append([connectivity[icon][iind], icon, connectivity[icon][jind]])\n",
    "    # dihedrals within the high level\n",
    "    _dihedrals = []\n",
    "    for icon in connectivity :\n",
    "        for ind in connectivity[icon] :\n",
    "            if ind > icon and ind in H_ind : \n",
    "                for k in connectivity[icon] :\n",
    "                    if k != ind and k in H_ind:\n",
    "                        for l in connectivity[ind] :\n",
    "                            if l != icon and l in H_ind :\n",
    "                                _dihedrals.append([k, icon, ind, l]) \n",
    "    return _bonds, _angles, _dihedrals"
   ]
  },
  {
   "cell_type": "code",
   "execution_count": 4,
   "id": "bac00002-7833-412f-ae04-7dca3c137cdf",
   "metadata": {},
   "outputs": [],
   "source": [
    "def create_mdtraj_object(_all_names, _all_pos):\n",
    "    topo_new = md.Topology()\n",
    "    chain = topo_new.add_chain()\n",
    "    res = topo_new.add_residue('mol', chain)\n",
    "    atom_counter = Counter()\n",
    "    \n",
    "    for at in _all_names :\n",
    "        atom_number = atom_counter[at] # atom index\n",
    "        if   at[0] == 'C' : element = elem.carbon # Get the atom element\n",
    "        elif at[0] == 'H' : element = elem.hydrogen\n",
    "        elif at[0] == 'N' : element = elem.nitrogen\n",
    "        elif at[0] == 'O' : element = elem.oxygen\n",
    "        elif at[0] == 'S' : element = elem.sulfur    \n",
    "        topo_new.add_atom(name=at+str(atom_number),\n",
    "                     element=element,\n",
    "                     residue=res,\n",
    "                     serial=atom_number) # Add everything to the topology\n",
    "        atom_counter.update(at) # Update the atom counter\n",
    "    \n",
    "    return md.Trajectory(xyz=np.array(_all_pos), topology=topo_new)"
   ]
  },
  {
   "cell_type": "code",
   "execution_count": 5,
   "id": "99f4e578-9767-4858-99a5-d0f4769ae143",
   "metadata": {},
   "outputs": [],
   "source": [
    "def do_CV_computation(t,_bonds,_angles,_dihedrals):\n",
    "    return md.compute_distances(t,_bonds), 180/np.pi*md.compute_angles(t,_angles), 180/np.pi*md.compute_dihedrals(t,_dihedrals)"
   ]
  },
  {
   "cell_type": "code",
   "execution_count": 6,
   "id": "13557d95-95d8-4658-9506-eefabe7f8c48",
   "metadata": {},
   "outputs": [],
   "source": [
    "def process_elongated_side(S_string,C_string) :\n",
    "# determine the CVs pertaining to the \"elongated\" moiety; THIS CVS WILL BE MARKED WITH *\n",
    "# now done for sy-ca bonds. adaptation might be needed for other bond types!\n",
    "# return elongated_bonds, elongated_angles, elongated_dihedrals\n",
    "\n",
    "    # identify S :\n",
    "    for iname in range(len(H_names)) : \n",
    "        if H_names[iname][:4] == S_string : S_ind = H_ind[iname] \n",
    "    # identify C participating in the elongated sy-ca bond        \n",
    "    C_long_bond = 0.1\n",
    "    for icon in connectivity[S_ind] : \n",
    "        connection_name = H_names[np.where(np.array(H_ind) == icon)[0][0]] # find the name of its connecting atoms\n",
    "        if connection_name[:4] == C_string : \n",
    "            if icon > S_ind : S_C_bond = [S_ind,icon]\n",
    "            else : S_C_bond = [icon,S_ind]\n",
    "            for ibond, bond in enumerate(bonds) :\n",
    "                if S_ind in bond and icon in bond : \n",
    "                    if computed_bonds[0][ibond] > C_long_bond :\n",
    "                        C_long_ind = icon \n",
    "                        C_long_bond_ind = bond\n",
    "                        C_long_bond = computed_bonds[0][ibond]\n",
    "                        \n",
    "    # identify atoms in the elongated phenyl group and the corresponding dihedrals  \n",
    "    _elongated_dihedrals = []\n",
    "    elongated_indices = []\n",
    "    for dih in dihedrals :\n",
    "        if C_long_ind in dih and not S_ind in dih :\n",
    "            _elongated_dihedrals.append(dih)\n",
    "            elongated_indices += dih\n",
    "    elongated_indices = np.unique(elongated_indices)\n",
    "    # amend elongated_dihedrals with dihedrals: * - C_long_ind - S_ind - O AND * - * - C_long_ind - S_ind\n",
    "    for dih in dihedrals :\n",
    "        if (dih[1] == C_long_ind and dih[2] == S_ind) or\\\n",
    "           (dih[2] == C_long_ind and dih[1] == S_ind) or\\\n",
    "           (dih[2] == C_long_ind and dih[3] == S_ind and len(np.intersect1d(dih, elongated_indices)) == 3) or\\\n",
    "           (dih[1] == C_long_ind and dih[0] == S_ind and len(np.intersect1d(dih, elongated_indices)) == 3):\n",
    "            _elongated_dihedrals.append(dih)\n",
    "    # add dihedrals defined for all elongated_indices without S_ind : extend elongated_dihedrals beyond the phenyl group\n",
    "    for dih in dihedrals :\n",
    "        if (not S_ind in dih) and len(np.intersect1d(dih, elongated_indices)) > 0 :\n",
    "            _elongated_dihedrals.append(dih)\n",
    "    \n",
    "    _elongated_angles = []\n",
    "    for angle in angles :\n",
    "        if (not S_ind in angle) and len(np.intersect1d(angle, elongated_indices)) > 0 :\n",
    "            _elongated_angles.append(angle)\n",
    "        elif S_ind in angle and C_long_ind in angle : _elongated_angles.append(angle)\n",
    "             #(angle[1] == C_long_ind and angle[2] == S_ind and len(np.intersect1d(dih, elongated_indices)) == 2) or\\\n",
    "             #(angle[2] == C_long_ind and angle[1] == S_ind and len(np.intersect1d(dih, elongated_indices)) == 2) :\n",
    "            #_elongated_angles.append(angle)\n",
    "    \n",
    "    _elongated_bonds = []\n",
    "    for bond in bonds :\n",
    "        if (not S_ind in bond) and len(np.intersect1d(bond, elongated_indices)) > 0 :\n",
    "            _elongated_bonds.append(bond)\n",
    "        elif S_ind in bond and C_long_ind in bond : _elongated_bonds.append(bond)\n",
    "            \n",
    "    return _elongated_bonds, _elongated_angles, _elongated_dihedrals"
   ]
  },
  {
   "cell_type": "code",
   "execution_count": 7,
   "id": "e963ba0f-8be7-4f5f-85d1-c326aefb7009",
   "metadata": {},
   "outputs": [],
   "source": [
    "def update_computed_CVs(_computed_bond_types,_computed_angle_types,_computed_dihedral_types, _all_dat, _broken) :\n",
    "    new_entry = {}\n",
    "    new_entry['broken'] = _broken\n",
    "    # update bonds\n",
    "    for bond, val in zip(bonds, computed_bonds[0]) :\n",
    "        if bond not in elongated_bonds :\n",
    "            if all_names[bond[0]] < all_names[bond[1]] : bond_tag = all_names[bond[0]]+'_'+all_names[bond[1]]\n",
    "            else : bond_tag= all_names[bond[1]]+'_'+all_names[bond[0]]\n",
    "        else:\n",
    "            if all_names[bond[0]] < all_names[bond[1]] : bond_tag = \"*\"+all_names[bond[0]]+'_'+all_names[bond[1]]\n",
    "            else : bond_tag= \"*\"+all_names[bond[1]]+'_'+all_names[bond[0]]\n",
    "        if   bond_tag  in _computed_bond_types : _computed_bond_types[bond_tag].append(val)\n",
    "        else : _computed_bond_types[bond_tag] = [val]\n",
    "        new_entry[bond_tag] = val    \n",
    "            \n",
    "    # update angles\n",
    "    for angle, val in zip(angles, computed_angles[0]) :\n",
    "        if angle not in elongated_angles :\n",
    "            if all_names[angle[0]] < all_names[angle[2]] : ang_tag = all_names[angle[0]]+'_'+all_names[angle[1]]+'_'+all_names[angle[2]]\n",
    "            else : ang_tag= all_names[angle[2]]+'_'+all_names[angle[1]]+'_'+all_names[angle[0]]\n",
    "        else:\n",
    "            if all_names[angle[0]] < all_names[angle[2]] : ang_tag = \"*\"+all_names[angle[0]]+'_'+all_names[angle[1]]+'_'+all_names[angle[2]]\n",
    "            else : ang_tag= \"*\"+all_names[angle[2]]+'_'+all_names[angle[1]]+'_'+all_names[angle[0]]\n",
    "        if   ang_tag  in _computed_angle_types : _computed_angle_types[ang_tag].append(val)\n",
    "        else : _computed_angle_types[ang_tag] = [val]\n",
    "        new_entry[ang_tag] = val\n",
    "\n",
    "    #update dihedrals\n",
    "    for dih, val in zip(dihedrals, computed_dihedrals[0]) :\n",
    "        if dih not in elongated_dihedrals :\n",
    "            if all_names[dih[0]] < all_names[dih[3]] : dih_tag = all_names[dih[0]]+'_'+all_names[dih[1]]+'_'+all_names[dih[2]]+'_'+all_names[dih[3]]\n",
    "            else : dih_tag= all_names[dih[3]]+'_'+all_names[dih[2]]+'_'+all_names[dih[1]]+'_'+all_names[dih[0]]\n",
    "        else:\n",
    "            if all_names[dih[0]] < all_names[dih[3]] : dih_tag = \"*\"+all_names[dih[0]]+'_'+all_names[dih[1]]+'_'+all_names[dih[2]]+'_'+all_names[dih[3]]\n",
    "            else : dih_tag= \"*\"+all_names[dih[3]]+'_'+all_names[dih[2]]+'_'+all_names[dih[1]]+'_'+all_names[dih[0]]\n",
    "        if   dih_tag  in _computed_dihedral_types : _computed_dihedral_types[dih_tag].append(val)\n",
    "        else : _computed_dihedral_types[dih_tag] = [val]    \n",
    "        new_entry[dih_tag] = val\n",
    "    _all_dat.append(new_entry)"
   ]
  },
  {
   "cell_type": "code",
   "execution_count": 8,
   "id": "b954b6dd-ac34-48dc-a90c-7ae861f9f676",
   "metadata": {},
   "outputs": [],
   "source": [
    "def select_files(nm) :\n",
    "    _broken = []\n",
    "    _not_broken = []\n",
    "    for _dd2 in dir_list :\n",
    "        for _dd1 in os.listdir(root+_dd2+'/broken/') :\n",
    "            if _dd1 != '.DS_Store' :\n",
    "                try : \n",
    "                    if os.listdir(root+_dd2+'/broken/'+_dd1+'/')[0] == nm :\n",
    "                        _broken.append(root+_dd2+'/broken/'+_dd1+'/'+nm)\n",
    "                except : print('failed to list: broken',root+_dd2+'/broken/'+_dd1+'/'+nm)\n",
    "        for _dd1 in os.listdir(root+_dd2+'/not_broken/') :\n",
    "            if _dd1 != '.DS_Store' :\n",
    "                try: \n",
    "                    if os.listdir(root+_dd2+'/not_broken/'+_dd1+'/')[0] == nm :\n",
    "                        _not_broken.append(root+_dd2+'/not_broken/'+_dd1+'/'+nm)\n",
    "                except : print('failed to list not broken',root+_dd2+'/broken/'+_dd1+'/'+nm)\n",
    "    return _broken, _not_broken"
   ]
  },
  {
   "cell_type": "code",
   "execution_count": 9,
   "id": "d3e3d101-57d7-40fa-9e93-76a62ddb6105",
   "metadata": {},
   "outputs": [],
   "source": [
    "def compute_information_in_cv(_cv) :\n",
    "    tmp_dat = []\n",
    "    num_occur = 0\n",
    "    for td in all_data :\n",
    "        if _cv in td and td['*C-caj--0.0415_S-syj-0.9724'] < 3.0: # remove outlier\n",
    "            num_occur += 1\n",
    "            tmp_dat.append({_cv : td[_cv], 'broken' : td['broken']})\n",
    "    if num_occur < 100 : # complain if cv occurs too infrequently in sample\n",
    "        #print('Too few occurrences of', _cv, ':', num_occur) \n",
    "        return None\n",
    "    else :\n",
    "        mincv = np.min([ td[_cv] for td in tmp_dat])\n",
    "        maxcv = np.max([ td[_cv] for td in tmp_dat])\n",
    "        d_cv = (maxcv-mincv)/nbins\n",
    "        edges = [ mincv + d_cv*ibin for ibin in range(nbins+1) ]\n",
    "        vals = [ [] for ibin in range(nbins)]\n",
    "        for td in tmp_dat :\n",
    "            ind = int((td[_cv]-mincv)/d_cv)\n",
    "            if ind > nbins-1 : ind = nbins-1\n",
    "            vals[ind].append(td)\n",
    "        # prune histogram if too few elements are in a bin\n",
    "        numval = [ len(val) for val in vals ]\n",
    "        while np.min(numval) < thrshld :\n",
    "            min_ind = np.where(numval == np.min(numval))[0][0]\n",
    "            if min_ind == 0 : merge_ind = min_ind + 1\n",
    "            elif min_ind == len(numval)-1 : merge_ind = min_ind - 1\n",
    "            else: \n",
    "                if numval[min_ind-1] > numval[min_ind+1] : merge_ind = min_ind + 1\n",
    "                else : merge_ind = min_ind - 1\n",
    "            vals[merge_ind] += vals[min_ind]\n",
    "            vals.pop(min_ind)\n",
    "            if merge_ind > min_ind : edges.pop(merge_ind)\n",
    "            else : edges.pop(min_ind)\n",
    "            numval = [ len(val) for val in vals ]\n",
    "        \n",
    "        p_B = []\n",
    "        p_i = []\n",
    "        for ival, val in enumerate(vals) : \n",
    "            _pb = 0\n",
    "            for td in val :\n",
    "                if td['broken'] : _pb += 1\n",
    "            if not (_pb == 0 or _pb == numval[ival]) :\n",
    "                p_B.append(float(_pb/numval[ival]))   \n",
    "                p_i.append(numval[ival]/np.sum(numval))\n",
    "        p_B = np.array(p_B)\n",
    "        p_i = np.array(p_i)\n",
    "        return Info_B_tot - np.dot(np.nan_to_num(-np.array(p_B)*np.log(p_B)-np.array(1-p_B)*np.log(1-p_B)),p_i)"
   ]
  },
  {
   "cell_type": "markdown",
   "id": "ee062697-0c7e-49cb-a046-6e002baf4709",
   "metadata": {},
   "source": [
    "#  MAIN STARTS"
   ]
  },
  {
   "cell_type": "code",
   "execution_count": 10,
   "id": "2d575b02-88c0-42f3-a6b8-6e18d41f1703",
   "metadata": {},
   "outputs": [
    {
     "name": "stdout",
     "output_type": "stream",
     "text": [
      "failed to list: broken /Users/gyorgy/Downloads/bond_breakage/oniom_results/241102-all/broken/50/bond1.com\n",
      "failed to list: broken /Users/gyorgy/Downloads/bond_breakage/oniom_results/241102-all/broken/51/bond1.com\n"
     ]
    }
   ],
   "source": [
    "dir_list = ['new_strain_test', 'new_strain_test_2', 'new_strain_test_3', '241102-all']\n",
    "root = '/Users/gyorgy/Downloads/bond_breakage/oniom_results/'\n",
    "all_data = []\n",
    "\n",
    "broken_list, not_broken_list = select_files('bond1.com')\n",
    "\n",
    "###################\n",
    "# BROKEN ANALYSIS #\n",
    "###################\n",
    "\n",
    "computed_bond_types_B = {}\n",
    "computed_angle_types_B = {}\n",
    "computed_dihedral_types_B = {}\n",
    "\n",
    "for fname in broken_list : \n",
    "    H_names, H_pos, H_ind, all_names, all_pos, connectivity = process_data(fname)\n",
    "    bonds, angles, dihedrals = get_H_CVs()\n",
    "    t_new = create_mdtraj_object(all_names, all_pos)\n",
    "    computed_bonds, computed_angles, computed_dihedrals = do_CV_computation(t_new,bonds,angles,dihedrals) \n",
    "    elongated_bonds, elongated_angles, elongated_dihedrals = process_elongated_side(\"S-sy\",\"C-ca\")\n",
    "    update_computed_CVs(computed_bond_types_B,computed_angle_types_B,computed_dihedral_types_B,all_data,True)\n",
    "\n",
    "#######################\n",
    "# NOT BROKEN ANALYSIS #\n",
    "#######################\n",
    "\n",
    "computed_bond_types_NB = {}\n",
    "computed_angle_types_NB = {}\n",
    "computed_dihedral_types_NB = {}\n",
    "\n",
    "for fname in not_broken_list :\n",
    "    H_names, H_pos, H_ind, all_names, all_pos, connectivity = process_data(fname)\n",
    "    bonds, angles, dihedrals = get_H_CVs()\n",
    "    t_new = create_mdtraj_object(all_names, all_pos)\n",
    "    computed_bonds, computed_angles, computed_dihedrals = do_CV_computation(t_new,bonds,angles,dihedrals) \n",
    "    elongated_bonds, elongated_angles, elongated_dihedrals = process_elongated_side(\"S-sy\",\"C-ca\")\n",
    "    update_computed_CVs(computed_bond_types_NB,computed_angle_types_NB,computed_dihedral_types_NB,all_data,False)\n",
    "    "
   ]
  },
  {
   "cell_type": "markdown",
   "id": "d597e30c-24d0-4c84-a411-c49fa9c679b4",
   "metadata": {},
   "source": [
    "# Analyze CVs"
   ]
  },
  {
   "cell_type": "code",
   "execution_count": 11,
   "id": "a013f7da-7655-4ccb-b60f-fae2fed32276",
   "metadata": {},
   "outputs": [],
   "source": [
    "keys = []\n",
    "for td in all_data : keys += list(td.keys())\n",
    "all_CVs = np.unique(keys)\n",
    "\n",
    "prob_B = float(len([ rec for rec in all_data if rec['broken'] ]) / len(all_data))\n",
    "Info_B_tot = (-prob_B*np.log(prob_B) -(1-prob_B)*np.log(1-prob_B)) / np.log(2)\n",
    "\n",
    "nbins = 30 # compute a histogram of all CVs with this many bins\n",
    "thrshld = 20 # merge neighboring bins until there is at least this many points in a bin\n",
    "\n",
    "information_content = {}\n",
    "\n",
    "for cv in all_CVs :\n",
    "    if cv != 'broken' :\n",
    "        info = compute_information_in_cv(cv)\n",
    "        if info is not None : information_content[cv] = info\n",
    "\n",
    "info_sorted = list(sorted(information_content.items(), key=lambda item: item[1]))"
   ]
  },
  {
   "cell_type": "code",
   "execution_count": 12,
   "id": "b380709a-813b-4e39-8976-e5fb0a0fc443",
   "metadata": {},
   "outputs": [
    {
     "name": "stdout",
     "output_type": "stream",
     "text": [
      "The spike corresponds to *C-caj--0.0415_S-syj-0.9724 0.5445723607300971\n"
     ]
    },
    {
     "data": {
      "image/png": "[encoded data removed]",
      "text/plain": [
       "<Figure size 640x480 with 1 Axes>"
      ]
     },
     "metadata": {},
     "output_type": "display_data"
    }
   ],
   "source": [
    "plt.bar(np.arange(len(information_content)),list(information_content.values()))\n",
    "plt.ylabel(\"Information stored in CV / bits\")\n",
    "plt.xlabel(\"CVs\")\n",
    "\n",
    "print('The spike corresponds to *C-caj--0.0415_S-syj-0.9724',information_content['*C-caj--0.0415_S-syj-0.9724'])"
   ]
  },
  {
   "cell_type": "code",
   "execution_count": 13,
   "id": "56b2b043-9777-4e3c-b4ab-28dc014ea5ee",
   "metadata": {},
   "outputs": [
    {
     "name": "stdout",
     "output_type": "stream",
     "text": [
      "0.5445723607300971\n",
      "0.2496562524609064\n",
      "0.25228716147119534\n",
      "0.25273425560018714\n",
      "0.2502931219924177\n"
     ]
    }
   ],
   "source": [
    "# potentially interesting CVs:\n",
    "\n",
    "print(information_content['*C-caj--0.0415_S-syj-0.9724'])\n",
    "print(information_content['C-caj--0.0415_S-syj-0.9724']) \n",
    "print(information_content['*C-caj--0.0415_S-syj-0.9724_O-oj--0.5633'])\n",
    "print(information_content['C-caj--0.0415_S-syj-0.9724_O-oj--0.5633'])\n",
    "print(information_content['*C-caj--0.0415_S-syj-0.9724_C-caj--0.0415'])"
   ]
  },
  {
   "cell_type": "code",
   "execution_count": 14,
   "id": "c661b41d-3e33-4228-8ea1-537540758368",
   "metadata": {},
   "outputs": [
    {
     "data": {
      "text/plain": [
       "<matplotlib.legend.Legend at 0x12bb5c160>"
      ]
     },
     "execution_count": 14,
     "metadata": {},
     "output_type": "execute_result"
    },
    {
     "data": {
      "image/png": "[encoded data removed]",
      "text/plain": [
       "<Figure size 640x480 with 1 Axes>"
      ]
     },
     "metadata": {},
     "output_type": "display_data"
    }
   ],
   "source": [
    "cv = '*C-caj--0.0415_S-syj-0.9724'\n",
    "plt.hist([ td[cv] for td in all_data if td['broken'] and td[cv] < 3.],density=False,bins=nbins,alpha=0.5,label='broken')\n",
    "plt.hist([ td[cv] for td in all_data if not td['broken'] and td[cv] < 3.],density=False,bins=nbins,alpha=0.5,label='not broken')\n",
    "#plt.hist([ td[cv] for td in tmp_dat],density=False,alpha=0.5, bins=20)\n",
    "plt.ylabel(\"Occurences\")\n",
    "plt.xlabel(\"Bond length / $\\AA$\")\n",
    "plt.legend()"
   ]
  },
  {
   "cell_type": "code",
   "execution_count": null,
   "id": "c48f172e-6abf-4b73-967d-96b0f8fa8eb0",
   "metadata": {},
   "outputs": [],
   "source": []
  }
 ],
 "metadata": {
  "kernelspec": {
   "display_name": "Python 3 (ipykernel)",
   "language": "python",
   "name": "python3"
  },
  "language_info": {
   "codemirror_mode": {
    "name": "ipython",
    "version": 3
   },
   "file_extension": ".py",
   "mimetype": "text/x-python",
   "name": "python",
   "nbconvert_exporter": "python",
   "pygments_lexer": "ipython3",
   "version": "3.9.6"
  }
 },
 "nbformat": 4,
 "nbformat_minor": 5
}
